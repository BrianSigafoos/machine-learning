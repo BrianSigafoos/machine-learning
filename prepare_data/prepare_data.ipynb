{
 "cells": [
  {
   "cell_type": "code",
   "execution_count": 3,
   "metadata": {},
   "outputs": [],
   "source": [
    "import os\n",
    "import pandas as pd\n",
    "import psycopg2 as pg\n",
    "from sshtunnel import SSHTunnelForwarder\n",
    "from dotenv import load_dotenv\n",
    "\n",
    "# Check for .env file and if found then load it\n",
    "if os.path.exists(\".env\"):\n",
    "    # Load environment variables from .env\n",
    "    load_dotenv()\n",
    "else:\n",
    "    # Create .env file from .env.example\n",
    "    with open(\".env.example\", \"r\") as f:\n",
    "        example = f.read()\n",
    "    with open(\".env\", \"w\") as f:\n",
    "        f.write(example)\n",
    "    print(\"Created .env file! Now paste into .env values from password manager\")"
   ]
  },
  {
   "cell_type": "code",
   "execution_count": 4,
   "metadata": {},
   "outputs": [],
   "source": [
    "# Ref: https://towardsdatascience.com/how-to-connect-to-a-postgresql-database-with-python-using-ssh-tunnelling-d803282f71e7\n",
    "def connect_ppg2():\n",
    "    try:\n",
    "        print(\"Connecting to the PostgreSQL Database...\")\n",
    "\n",
    "        ssh_tunnel = SSHTunnelForwarder(\n",
    "            (os.environ[\"SSH_HOST\"]),\n",
    "            ssh_username=os.environ[\"SSH_USERNAME\"],\n",
    "            ssh_private_key=os.environ[\"SSH_KEY_PATH\"],\n",
    "            ssh_private_key_password=os.environ[\"SSH_KEY_PASSWORD\"],\n",
    "            remote_bind_address=(os.environ[\"PGHOST\"], 5432),\n",
    "        )\n",
    "        ssh_tunnel.start()\n",
    "\n",
    "        conn = pg.connect(\n",
    "            host=\"localhost\",\n",
    "            port=ssh_tunnel.local_bind_port,\n",
    "            user=os.environ[\"PGUSER\"],\n",
    "            password=os.environ[\"PGPASSWORD\"],\n",
    "            database=os.environ[\"PGDATABASE\"],\n",
    "        )\n",
    "    except:\n",
    "        print(\"Connection Has Failed...\")\n",
    "\n",
    "    return conn\n",
    "\n",
    "\n",
    "def create_df_from_ppg2(query, conn):\n",
    "    print(\"Executing SQL Query & Saving To DataFrame...\")\n",
    "    return pd.read_sql_query(query, conn)"
   ]
  },
  {
   "cell_type": "code",
   "execution_count": null,
   "metadata": {},
   "outputs": [],
   "source": [
    "query = \"\"\"\n",
    "select\n",
    "  id,\n",
    "  name\n",
    "from\n",
    "  accounts\n",
    "order by\n",
    "  created_at desc\n",
    "limit \n",
    "  10\n",
    "\"\"\"\n",
    "\n",
    "df = create_df_from_ppg2(query, connect_ppg2())\n",
    "df.head()"
   ]
  },
  {
   "attachments": {},
   "cell_type": "markdown",
   "metadata": {},
   "source": [
    "## Clean up"
   ]
  },
  {
   "cell_type": "code",
   "execution_count": 5,
   "metadata": {},
   "outputs": [],
   "source": [
    "# Delete .env file\n",
    "os.remove(\".env\")"
   ]
  },
  {
   "cell_type": "code",
   "execution_count": null,
   "metadata": {},
   "outputs": [],
   "source": []
  }
 ],
 "metadata": {
  "kernelspec": {
   "display_name": "base",
   "language": "python",
   "name": "python3"
  },
  "language_info": {
   "codemirror_mode": {
    "name": "ipython",
    "version": 3
   },
   "file_extension": ".py",
   "mimetype": "text/x-python",
   "name": "python",
   "nbconvert_exporter": "python",
   "pygments_lexer": "ipython3",
   "version": "3.10.8"
  },
  "orig_nbformat": 4,
  "vscode": {
   "interpreter": {
    "hash": "eff2759d08249ab8aebc36f9602f3021ae9774f8f0203a4a83a5ad2ff4836f90"
   }
  }
 },
 "nbformat": 4,
 "nbformat_minor": 2
}
