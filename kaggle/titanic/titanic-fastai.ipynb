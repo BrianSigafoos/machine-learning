{
 "cells": [
  {
   "attachments": {},
   "cell_type": "markdown",
   "metadata": {},
   "source": [
    "Source: https://www.kaggle.com/code/jhoward/why-you-should-use-a-framework"
   ]
  },
  {
   "cell_type": "code",
   "execution_count": null,
   "metadata": {},
   "outputs": [],
   "source": [
    "!pip install kaggle"
   ]
  },
  {
   "cell_type": "code",
   "execution_count": null,
   "metadata": {},
   "outputs": [],
   "source": [
    "import os\n",
    "from pathlib import Path\n",
    "\n",
    "competition = \"titanic\"  # Change this to any Kaggle competition name\n",
    "iskaggle = os.environ.get(\"KAGGLE_KERNEL_RUN_TYPE\", \"\")\n",
    "\n",
    "if iskaggle:\n",
    "    path = Path(f\"../input/{competition}\")\n",
    "else:\n",
    "    import kaggle\n",
    "\n",
    "    # Save data in `data/` directories, that are gitignored\n",
    "    path = Path(\"data\")\n",
    "\n",
    "    if not path.exists():\n",
    "        import zipfile\n",
    "\n",
    "        kaggle.api.competition_download_cli(competition=competition, path=str(path))\n",
    "        zipfile.ZipFile(f\"{path}/{competition}.zip\").extractall(path)\n",
    "\n",
    "print(f\"Ready for competition: {competition}\")"
   ]
  },
  {
   "cell_type": "code",
   "execution_count": null,
   "metadata": {},
   "outputs": [],
   "source": [
    "import pandas as pd"
   ]
  },
  {
   "cell_type": "code",
   "execution_count": null,
   "metadata": {},
   "outputs": [],
   "source": [
    "from fastai.tabular.all import *\n",
    "\n",
    "pd.options.display.float_format = \"{:.2f}\".format\n",
    "set_seed(42)"
   ]
  },
  {
   "cell_type": "code",
   "execution_count": null,
   "metadata": {},
   "outputs": [],
   "source": [
    "df = pd.read_csv(path / \"train.csv\")"
   ]
  },
  {
   "cell_type": "code",
   "execution_count": null,
   "metadata": {},
   "outputs": [],
   "source": [
    "def add_features(df):\n",
    "    df[\"LogFare\"] = np.log1p(df[\"Fare\"])\n",
    "    df[\"Deck\"] = df.Cabin.str[0].map(\n",
    "        dict(A=\"ABC\", B=\"ABC\", C=\"ABC\", D=\"DE\", E=\"DE\", F=\"FG\", G=\"FG\")\n",
    "    )\n",
    "    df[\"Family\"] = df.SibSp + df.Parch\n",
    "    df[\"Alone\"] = df.Family == 0\n",
    "    df[\"TicketFreq\"] = df.groupby(\"Ticket\")[\"Ticket\"].transform(\"count\")\n",
    "    df[\"Title\"] = df.Name.str.split(\", \", expand=True)[1].str.split(\".\", expand=True)[0]\n",
    "    df[\"Title\"] = df.Title.map(dict(Mr=\"Mr\", Miss=\"Miss\", Mrs=\"Mrs\", Master=\"Master\"))\n",
    "\n",
    "\n",
    "add_features(df)"
   ]
  },
  {
   "cell_type": "code",
   "execution_count": null,
   "metadata": {},
   "outputs": [],
   "source": [
    "splits = RandomSplitter(seed=42)(df)"
   ]
  },
  {
   "cell_type": "code",
   "execution_count": null,
   "metadata": {},
   "outputs": [],
   "source": [
    "dls = TabularPandas(\n",
    "    df,\n",
    "    splits=splits,\n",
    "    procs=[Categorify, FillMissing, Normalize],\n",
    "    cat_names=[\"Sex\", \"Pclass\", \"Embarked\", \"Deck\", \"Title\"],\n",
    "    cont_names=[\"Age\", \"SibSp\", \"Parch\", \"LogFare\", \"Alone\", \"TicketFreq\", \"Family\"],\n",
    "    y_names=\"Survived\",\n",
    "    y_block=CategoryBlock(),\n",
    ").dataloaders(path=\".\")"
   ]
  },
  {
   "cell_type": "code",
   "execution_count": null,
   "metadata": {},
   "outputs": [],
   "source": [
    "learn = tabular_learner(dls, metrics=accuracy, layers=[10, 10])"
   ]
  },
  {
   "cell_type": "code",
   "execution_count": null,
   "metadata": {},
   "outputs": [],
   "source": [
    "learn.lr_find(suggest_funcs=(slide, valley))"
   ]
  },
  {
   "cell_type": "code",
   "execution_count": null,
   "metadata": {},
   "outputs": [],
   "source": [
    "learn.fit(16, lr=0.03)"
   ]
  },
  {
   "cell_type": "code",
   "execution_count": null,
   "metadata": {},
   "outputs": [],
   "source": [
    "tst_df = pd.read_csv(path / \"test.csv\")\n",
    "tst_df[\"Fare\"] = tst_df.Fare.fillna(0)\n",
    "add_features(tst_df)"
   ]
  },
  {
   "cell_type": "code",
   "execution_count": null,
   "metadata": {},
   "outputs": [],
   "source": [
    "tst_dl = learn.dls.test_dl(tst_df)"
   ]
  },
  {
   "cell_type": "code",
   "execution_count": null,
   "metadata": {},
   "outputs": [],
   "source": [
    "preds, _ = learn.get_preds(dl=tst_dl)"
   ]
  },
  {
   "cell_type": "code",
   "execution_count": null,
   "metadata": {},
   "outputs": [],
   "source": [
    "tst_df[\"Survived\"] = (preds[:, 1] > 0.5).int()"
   ]
  },
  {
   "cell_type": "code",
   "execution_count": null,
   "metadata": {},
   "outputs": [],
   "source": [
    "sub_df = tst_df[[\"PassengerId\", \"Survived\"]]\n",
    "sub_df.to_csv(\"submission.csv\", index=False)"
   ]
  },
  {
   "cell_type": "code",
   "execution_count": null,
   "metadata": {},
   "outputs": [],
   "source": [
    "sub = pd.read_csv(\"submission.csv\")\n",
    "sub"
   ]
  },
  {
   "attachments": {},
   "cell_type": "markdown",
   "metadata": {},
   "source": [
    "# Ensembling"
   ]
  },
  {
   "cell_type": "code",
   "execution_count": null,
   "metadata": {},
   "outputs": [],
   "source": [
    "def ensemble():\n",
    "    learn = tabular_learner(dls, metrics=accuracy, layers=[10, 10])\n",
    "    with learn.no_bar(), learn.no_logging():\n",
    "        learn.fit(16, lr=0.03)\n",
    "    return learn.get_preds(dl=tst_dl)[0]"
   ]
  },
  {
   "cell_type": "code",
   "execution_count": null,
   "metadata": {},
   "outputs": [],
   "source": [
    "learns = [ensemble() for _ in range(5)]"
   ]
  },
  {
   "cell_type": "code",
   "execution_count": null,
   "metadata": {},
   "outputs": [],
   "source": [
    "ens_preds = torch.stack(learns).mean(0)"
   ]
  },
  {
   "cell_type": "code",
   "execution_count": null,
   "metadata": {},
   "outputs": [],
   "source": [
    "tst_df[\"Survived\"] = (ens_preds[:, 1] > 0.5).int()\n",
    "sub_df = tst_df[[\"PassengerId\", \"Survived\"]]\n",
    "sub_df.to_csv(\"submission.csv\", index=False)"
   ]
  },
  {
   "cell_type": "code",
   "execution_count": null,
   "metadata": {},
   "outputs": [],
   "source": []
  }
 ],
 "metadata": {
  "kernelspec": {
   "display_name": "base",
   "language": "python",
   "name": "python3"
  },
  "language_info": {
   "codemirror_mode": {
    "name": "ipython",
    "version": 3
   },
   "file_extension": ".py",
   "mimetype": "text/x-python",
   "name": "python",
   "nbconvert_exporter": "python",
   "pygments_lexer": "ipython3",
   "version": "3.10.8"
  },
  "orig_nbformat": 4,
  "vscode": {
   "interpreter": {
    "hash": "eff2759d08249ab8aebc36f9602f3021ae9774f8f0203a4a83a5ad2ff4836f90"
   }
  }
 },
 "nbformat": 4,
 "nbformat_minor": 2
}
